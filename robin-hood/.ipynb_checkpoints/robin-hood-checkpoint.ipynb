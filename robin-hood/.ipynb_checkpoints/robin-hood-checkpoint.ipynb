{
 "cells": [
  {
   "cell_type": "markdown",
   "metadata": {},
   "source": [
    "# Robin Hood\n",
    "## Intro\n",
    "We are in a competition to win the archery contest in Sherwood. With our bow and arrows we shoot on a target and try to hit as close as possible to the center.\n",
    "\n",
    "The center of the target is represented by the values (0, 0) on the coordinate axes.\n",
    "\n",
    "![](images/arrows.jpg)\n",
    "\n",
    "## Goals:\n",
    "* data structures: lists, sets, tuples\n",
    "* logical operators: if-elif-else\n",
    "* loop: while/for\n",
    "* minimum (optional sorting)\n",
    "\n",
    "## Description:\n",
    "In the 2-dimensional space, a point can be defined by a pair of values that correspond to the horizontal coordinate (x) and the vertical coordinate (y). The space can be divided into 4 zones (quadrants): Q1, Q2, Q3, Q4. Whose single point of union is the point (0, 0).\n",
    "\n",
    "If a point is in Q1 both its x coordinate and the y are positive. I leave a link to wikipedia to familiarize yourself with these quadrants.\n",
    "\n",
    "https://en.wikipedia.org/wiki/Cartesian_coordinate_system\n",
    "\n",
    "https://en.wikipedia.org/wiki/Euclidean_distance\n",
    "\n",
    "## Shots\n",
    "```\n",
    "points = [(4, 5), (-0, 2), (4, 7), (1, -3), (3, -2), (4, 5),\n",
    "          (3, 2), (5, 7), (-5, 7), (2, 2), (-4, 5), (0, -2),\n",
    "          (-4, 7), (-1, 3), (-3, 2), (-4, -5), (-3, 2),\n",
    "          (5, 7), (5, 7), (2, 2), (9, 9), (-8, -9)]\n",
    "```\n",
    "\n",
    "## Tasks\n",
    "1. Robin Hood is famous for hitting an arrow with another arrow. Did you get it?\n",
    "2. Calculate how many arrows have fallen in each quadrant.\n",
    "3. Find the point closest to the center. Calculate its distance to the center. \n",
    "4. If the target has a radius of 9, calculate the number of arrows that must be picked up in the forest."
   ]
  },
  {
   "cell_type": "code",
   "execution_count": 1,
   "metadata": {},
   "outputs": [],
   "source": [
    "# Variables\n",
    "\n",
    "points = [(4, 5), (-0, 2), (4, 7), (1, -3), (3, -2), (4, 5),\n",
    "          (3, 2), (5, 7), (-5, 7), (2, 2), (-4, 5), (0, -2),\n",
    "          (-4, 7), (-1, 3), (-3, 2), (-4, -5), (-3, 2),\n",
    "          (5, 7), (5, 7), (2, 2), (9, 9), (-8, -9)]"
   ]
  },
  {
   "cell_type": "code",
   "execution_count": 12,
   "metadata": {},
   "outputs": [
    {
     "name": "stdout",
     "output_type": "stream",
     "text": [
      "The unique points are: {(-5, 7), (3, -2), (-4, 7), (-4, 5), (9, 9), (5, 7), (4, 5), (0, 2), (1, -3), (-1, 3), (-4, -5), (2, 2), (-3, 2), (3, 2), (-8, -9), (0, -2), (4, 7)}\n",
      "The total points are: 22\n",
      "The unique points are: 17\n",
      "Robin Hood hit an arrow with another arrow\n"
     ]
    }
   ],
   "source": [
    "# 1. Robin Hood is famous for hitting an arrow with another arrow. Did you get it?\n",
    "points=[(4, 5), (-0, 2), (4, 7), (1, -3), (3, -2), (4, 5), (3, 2), (5, 7), (-5, 7), (2, 2), (-4, 5), (0, -2),(-4, 7), (-1, 3), (-3, 2), (-4, -5), (-3, 2), (5, 7), (5, 7), (2, 2), (9, 9), (-8, -9)]\n",
    "unique_points=set(points)\n",
    "print(f\"The unique points are:\", unique_points)\n",
    "rep_points=[]\n",
    "print(f\"The total points are:\", len(points))\n",
    "print(f\"The unique points are:\", len(unique_points))\n",
    "\n",
    "if (len(points))>(len(unique_points)):\n",
    "    print(f\"Robin Hood hit an arrow with another arrow\")\n",
    "else:\n",
    "    print(f\"Robin Hood did not hit an arrow with another arrow\")\n"
   ]
  },
  {
   "cell_type": "markdown",
   "metadata": {},
   "source": [
    "**Expected output**:\n",
    "```\n",
    "True\n",
    "```"
   ]
  },
  {
   "cell_type": "code",
   "execution_count": 11,
   "metadata": {},
   "outputs": [
    {
     "name": "stdout",
     "output_type": "stream",
     "text": [
      "The number of arrows fallen in Q1 are: 10\n",
      "The number of arrows fallen in Q2 are: 6\n",
      "The number of arrows fallen in Q3 are: 2\n",
      "The number of arrows fallen in Q4 are: 2\n"
     ]
    }
   ],
   "source": [
    "# 2. Calculate how many arrows have fallen in each quadrant.\n",
    "points=[(4, 5), (-0, 2), (4, 7), (1, -3), (3, -2), (4, 5), (3, 2), (5, 7), (-5, 7), (2, 2), (-4, 5), (0, -2),(-4, 7), (-1, 3), (-3, 2), (-4, -5), (-3, 2), (5, 7), (5, 7), (2, 2), (9, 9), (-8, -9)]\n",
    "\n",
    "q_one=0\n",
    "q_two=0\n",
    "q_three=0\n",
    "q_four=0\n",
    "origin=0\n",
    "\n",
    "for x,y in points:\n",
    "    if ((x>0) and (y>0)):\n",
    "        q_one = q_one + 1\n",
    "    elif ((x<0) and (y>0)):\n",
    "        q_two = q_two + 1\n",
    "    elif ((x<0) and (y<0)):\n",
    "        q_three = q_three + 1\n",
    "    elif ((x>0) and (y<0)):\n",
    "        q_four = q_four + 1\n",
    "    else:\n",
    "        origin = origin + 1\n",
    "        \n",
    "print(f\"The number of arrows fallen in Q1 are:\",q_one)\n",
    "print(f\"The number of arrows fallen in Q2 are:\",q_two)\n",
    "print(f\"The number of arrows fallen in Q3 are:\",q_three)\n",
    "print(f\"The number of arrows fallen in Q4 are:\",q_four)"
   ]
  },
  {
   "cell_type": "markdown",
   "metadata": {},
   "source": [
    "**Expected output**:\n",
    "```\n",
    "(10, 6, 2, 2)\n",
    "```"
   ]
  },
  {
   "cell_type": "code",
   "execution_count": 18,
   "metadata": {},
   "outputs": [
    {
     "name": "stdout",
     "output_type": "stream",
     "text": [
      "The distances to the center are: [6, 2, 8, 3, 4, 6, 4, 9, 9, 3, 6, 2, 8, 3, 4, 6, 4, 9, 9, 3, 13, 12]\n",
      "22\n",
      "The closest distance to the center is: 2\n",
      "The closest points to the center are: (0, 2) (0, -2)\n"
     ]
    }
   ],
   "source": [
    "# 3. Find the point closest to the center. Calculate its distance to the center\n",
    "# Defining a function that calculates the distance to the center can help.\n",
    "points=[(4, 5), (-0, 2), (4, 7), (1, -3), (3, -2), (4, 5), (3, 2), (5, 7), (-5, 7), (2, 2), (-4, 5), (0, -2),(-4, 7), (-1, 3), (-3, 2), (-4, -5), (-3, 2), (5, 7), (5, 7), (2, 2), (9, 9), (-8, -9)]\n",
    "import math\n",
    "def puntosdetiro(tiros):\n",
    "    puntos_x=tiros[0]\n",
    "    puntos_y=tiros[1]\n",
    "    for_distancia= math.sqrt((puntos_x**2)+(puntos_y**2))\n",
    "    return for_distancia\n",
    "distancias=[]\n",
    "for i in points:\n",
    "    distancias.append(round(puntosdetiro(i)))\n",
    "\n",
    "print(f\"The distances to the center are:\", distancias)\n",
    "distancias=[6, 2, 8, 3, 4, 6, 4, 9, 9, 3, 6, 2, 8, 3, 4, 6, 4, 9, 9, 3, 13, 12]\n",
    "print(len(distancias))\n",
    "print(\"The closest distance to the center is:\", min(distancias))\n",
    "print(f\"The closest points to the center are:\", points[1], points[11])"
   ]
  },
  {
   "cell_type": "markdown",
   "metadata": {},
   "source": [
    "**Expected output**:\n",
    "```\n",
    "(0, 2)\n",
    "2.0\n",
    "```"
   ]
  },
  {
   "cell_type": "code",
   "execution_count": 19,
   "metadata": {},
   "outputs": [
    {
     "name": "stdout",
     "output_type": "stream",
     "text": [
      "[13, 12]\n",
      "The arrows out are: 2\n",
      "The points out are: (9, 9) (-8, -9)\n"
     ]
    }
   ],
   "source": [
    "# 4. If the target has a radius of 9, calculate the number of arrows that \n",
    "# must be picked up in the forest.\n",
    "radius=9\n",
    "arrows_out=[]\n",
    "for i in distancias:\n",
    "    if i > 9:\n",
    "        arrows_out.append(i)\n",
    "print(arrows_out)\n",
    "print(f\"The arrows out are:\", len(arrows_out))\n",
    "print(f\"The points out are:\",points[20], points[21])"
   ]
  },
  {
   "cell_type": "markdown",
   "metadata": {},
   "source": [
    "**Expected output**:\n",
    "```\n",
    "[(9, 9), (-8, -9)]\n",
    "2\n",
    "```"
   ]
  },
  {
   "cell_type": "code",
   "execution_count": null,
   "metadata": {},
   "outputs": [],
   "source": []
  }
 ],
 "metadata": {
  "kernelspec": {
   "display_name": "Python 3",
   "language": "python",
   "name": "python3"
  },
  "language_info": {
   "codemirror_mode": {
    "name": "ipython",
    "version": 3
   },
   "file_extension": ".py",
   "mimetype": "text/x-python",
   "name": "python",
   "nbconvert_exporter": "python",
   "pygments_lexer": "ipython3",
   "version": "3.9.0"
  }
 },
 "nbformat": 4,
 "nbformat_minor": 2
}
